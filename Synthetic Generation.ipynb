{
 "cells": [
  {
   "cell_type": "code",
   "execution_count": 1,
   "id": "5bfb7907",
   "metadata": {},
   "outputs": [],
   "source": [
    "#libraries\n",
    "import openai\n",
    "import os\n",
    "import pandas as pd\n",
    "import time\n",
    "import csv\n",
    "import re"
   ]
  },
  {
   "cell_type": "code",
   "execution_count": null,
   "id": "c569cc86",
   "metadata": {},
   "outputs": [],
   "source": [
    "#API key\n",
    "openai.api_key = 'paste key here'"
   ]
  },
  {
   "cell_type": "code",
   "execution_count": 3,
   "id": "d083854c",
   "metadata": {},
   "outputs": [
    {
     "name": "stdout",
     "output_type": "stream",
     "text": [
      "0    Thank you for seeing this 60 year old woman wi...\n",
      "1    I am referring this 37-year-old female patient...\n",
      "2    Dear Colleague, This 72 yr old gentleman has h...\n",
      "3    Thank you for seeing this 45F with symptomatic...\n",
      "4    The doctor thank you for seeing this lady who ...\n",
      "Name: letter_text, dtype: object\n"
     ]
    }
   ],
   "source": [
    "#import data\n",
    "df = pd.read_csv('data.csv')\n",
    "print(df[\"letter_text\"].head())"
   ]
  },
  {
   "cell_type": "code",
   "execution_count": 4,
   "id": "640bf8ff",
   "metadata": {},
   "outputs": [],
   "source": [
    "#remove urgency column\n",
    "df = df.drop(columns = [\"urgency\"], inplace = False)"
   ]
  },
  {
   "cell_type": "code",
   "execution_count": 5,
   "id": "5420ec2c",
   "metadata": {},
   "outputs": [],
   "source": [
    "#seperate data into classes\n",
    "pvd_letters = df[df['referal_type'] == \"pvd\"]\n",
    "vv_letters = df[df['referal_type'] == \"varicose veins\"]\n",
    "nv_letters = df[df['referal_type'] == \"non vascular\"]"
   ]
  },
  {
   "cell_type": "code",
   "execution_count": null,
   "id": "828d63d6",
   "metadata": {},
   "outputs": [],
   "source": [
    "# Function for prompts\n",
    "def generate_synthetic_letters(letters_df, letter_type = 'nonvascular'):\n",
    "    # Construct the examples section from given letters\n",
    "    examples_text = \"\\n---\\n\".join([\n",
    "        f\"[Letter {i+1}]\\n{row['letter_text']}\"\n",
    "        for i, row in letters_df.iterrows()\n",
    "    ])\n",
    "\n",
    "    if letter_type == 'pvd':\n",
    "        # PVD prompt\n",
    "        prompt = f\"\"\"\n",
    "        You are a medical assistant tasked with generating synthetic referral letters for machine learning training.\n",
    "        Below is a set of real, anonymized referral letters. Your task is to learn the writing style, structure, and medical content of these letters. Then generate new synthetic letters that resemble the same clinical tone and structure.\n",
    "        REAL LETTERS:\n",
    "        ---\n",
    "        {examples_text}\n",
    "        ---\n",
    "\n",
    "        TASK:\n",
    "        Generate 10 new synthetic referral letters that:\n",
    "        - Reflect the letters in the examples\n",
    "        - Use a formal, clinical tone\n",
    "        - Mention symptoms, medical history, and examination findings\n",
    "        - Vary the patient age and context realistically\n",
    "        - Maintain medical plausibility and formal tone\n",
    "\n",
    "        Your symptoms should include some of the following:\n",
    "        - Cardiovascular issues such as:\n",
    "            - Pulse\n",
    "            - Blood pressure\n",
    "            - Any ECGs done\n",
    "        - Smoking History\n",
    "        - Cholesterol levels\n",
    "        - Diabetes\n",
    "        - Any Medications\n",
    "\n",
    "        Output only the 10 synthetic letters.\n",
    "        each letter should be separated by \"---\" followed by Letter X where X is the letter number.\n",
    "        \"\"\"\n",
    "    elif letter_type == 'vv':\n",
    "        #Varicose veins prompt\n",
    "        prompt = f\"\"\"\n",
    "        You are a medical assistant tasked with generating synthetic referral letters for machine learning training.\n",
    "        Below is a set of real, anonymized referral letters. Your task is to learn the writing style, structure, and medical content of these letters. Then generate new synthetic letters that resemble the same clinical tone and structure.\n",
    "        REAL LETTERS:\n",
    "        ---\n",
    "        {examples_text}\n",
    "        ---\n",
    "\n",
    "        TASK:\n",
    "        Generate 10 new synthetic referral letters that:\n",
    "        - Reflect the letters in the examples\n",
    "        - Use a formal, clinical tone\n",
    "        - Mention symptoms, medical history, and examination findings\n",
    "        - Vary the patient age and context realistically\n",
    "        - Maintain medical plausibility and formal tone\n",
    "\n",
    "        Your symptoms should include some of the following:\n",
    "        - Bleeding\n",
    "        - Ulceration (healing or not)\n",
    "        - If the patient is a woman and under 50 if they have recently been pregnant in the last 2 years\n",
    "        - Any aching pain persisting for more than 12 months with no improvements\n",
    "\n",
    "        Output only the 10 synthetic letters.\n",
    "        each letter should be separated by \"---\" followed by Letter X where X is the letter number.\n",
    "        \"\"\"\n",
    "    else:\n",
    "        prompt = f\"\"\"\n",
    "        You are a medical assistant tasked with generating synthetic referral letters for machine learning training.\n",
    "        Below is a set of real, anonymized referral letters. Your task is to learn the writing style, structure, and medical content of these letters. Then generate new synthetic letters that resemble the same clinical tone and structure. They must not be on strokes and should not be about any form of vascular ailment\n",
    "        REAL LETTERS:\n",
    "        ---\n",
    "        {examples_text}\n",
    "        ---\n",
    "\n",
    "        TASK:\n",
    "        Generate 10 new synthetic referral letters that:\n",
    "        - Reflect the letters in the examples\n",
    "        - Use a formal, clinical tone\n",
    "        - Mention symptoms, medical history, and examination findings\n",
    "        - Vary the patient age and context realistically\n",
    "        - Maintain medical plausibility and formal tone\n",
    "\n",
    "        Output only the 10 synthetic letters.\n",
    "        each letter should be separated by \"---\" followed by Letter X where X is the letter number.\n",
    "        \"\"\"\n",
    "    # Call the API\n",
    "    response = openai.chat.completions.create(\n",
    "        model=\"gpt-4-turbo\",\n",
    "        messages=[\n",
    "            {\"role\": \"system\", \"content\": \"You are a helpful medical assistant.\"},\n",
    "            {\"role\": \"user\", \"content\": prompt}\n",
    "        ],\n",
    "        temperature=0.7,\n",
    "    )\n",
    "\n",
    "    return response.choices[0].message.content"
   ]
  },
  {
   "cell_type": "code",
   "execution_count": 7,
   "id": "30cf2529",
   "metadata": {},
   "outputs": [],
   "source": [
    "def clean_and_split_letters(text, referral_type):\n",
    "    # remove all occurrences of '---'\n",
    "    text = text.replace('---', '').strip()\n",
    "\n",
    "    #use letter prefix to determine the start of a letter\n",
    "    letters = re.split(r'\\[Letter \\d+\\]', text)\n",
    "    letters = [l.strip() for l in letters if l.strip()]  # Remove empty strings\n",
    "    cleaned_letters = []\n",
    "    for letter in letters:\n",
    "        # Remove newlines\n",
    "        letter = letter.replace('\\n', ' ')\n",
    "        # Remove extra spaces\n",
    "        letter = re.sub(r'\\s+', ' ', letter).strip()\n",
    "        # remove any leftover [Letter X] patterns\n",
    "        letter = re.sub(r'\\[Letter\\s+[^\\]]+\\]', '', letter).strip()\n",
    "        cleaned_letters.append(letter)\n",
    "    return pd.DataFrame({\n",
    "        'letter_text': cleaned_letters,\n",
    "        'referal_type': [referral_type] * len(cleaned_letters)\n",
    "    })"
   ]
  },
  {
   "cell_type": "code",
   "execution_count": null,
   "id": "ecb5c108",
   "metadata": {},
   "outputs": [],
   "source": [
    "pvd_batches = []\n",
    "\n",
    "for _ in range(10):  \n",
    "    raw_text = generate_synthetic_letters(pvd_letters, 'pvd')\n",
    "    \n",
    "    # Convert the raw string into a DataFrame with one row per letter\n",
    "    split_df = clean_and_split_letters(raw_text, referral_type='pvd')\n",
    "    \n",
    "    pvd_batches.append(split_df)\n",
    "\n",
    "# Combine all batches into one DataFrame\n",
    "pvd_synthetic = pd.concat(pvd_batches, ignore_index=True)\n"
   ]
  },
  {
   "cell_type": "code",
   "execution_count": 15,
   "id": "9c7db364",
   "metadata": {},
   "outputs": [
    {
     "name": "stdout",
     "output_type": "stream",
     "text": [
      "                                          letter_text referal_type\n",
      "0   Dear Colleague, I am referring a 67-year-old f...          pvd\n",
      "1   Thank you for seeing this 72-year-old male who...          pvd\n",
      "2   Dear Doctor, I am referring a 63-year-old male...          pvd\n",
      "3   Dear Colleague, this 70-year-old female presen...          pvd\n",
      "4   Thank you for seeing this 69-year-old male who...          pvd\n",
      "..                                                ...          ...\n",
      "95  Dear Doctor, Thank you for seeing this 82-year...          pvd\n",
      "96  Dear Colleague, I am referring a 64-year-old f...          pvd\n",
      "97  Dear Doctor, Please evaluate this 71-year-old ...          pvd\n",
      "98  Dear Colleague, Thank you for seeing this 68-y...          pvd\n",
      "99  Dear Doctor, I am referring a 75-year-old fema...          pvd\n",
      "\n",
      "[100 rows x 2 columns]\n"
     ]
    }
   ],
   "source": [
    "print(pvd_synthetic)"
   ]
  },
  {
   "cell_type": "code",
   "execution_count": 16,
   "id": "96330ee8",
   "metadata": {},
   "outputs": [],
   "source": [
    "vv_batches = []\n",
    "\n",
    "for _ in range(10):  \n",
    "    raw_text = generate_synthetic_letters(vv_letters, 'vv')\n",
    "    \n",
    "    # Convert the raw string into a DataFrame with one row per letter\n",
    "    split_df = clean_and_split_letters(raw_text, referral_type='varicose veins')\n",
    "    \n",
    "    vv_batches.append(split_df)\n",
    "\n",
    "# Combine all batches into one DataFrame\n",
    "vv_synthetic = pd.concat(vv_batches, ignore_index=True)\n"
   ]
  },
  {
   "cell_type": "code",
   "execution_count": 17,
   "id": "ac0f9f09",
   "metadata": {},
   "outputs": [
    {
     "name": "stdout",
     "output_type": "stream",
     "text": [
      "                                          letter_text    referal_type\n",
      "0   Dear Colleague, I am referring a 34-year-old w...  varicose veins\n",
      "1   Dear Specialist, I am writing to seek your opi...  varicose veins\n",
      "2   Dear Vascular Surgeon, Please see this 47-year...  varicose veins\n",
      "3   Dear Colleague, This referral concerns a 62-ye...  varicose veins\n",
      "4   Dear Vascular Specialist, I am referring a 29-...  varicose veins\n",
      "..                                                ...             ...\n",
      "95  Dear Specialist, I am urgently referring Ms. N...  varicose veins\n",
      "96  Dear Vascular Team, I am referring a 48-year-o...  varicose veins\n",
      "97  Dear Esteemed Colleague, I would like your exp...  varicose veins\n",
      "98  Dear Vascular Surgeon, Please assess Mr. GHI, ...  varicose veins\n",
      "99  Dear Colleague, I am referring a 62-year-old f...  varicose veins\n",
      "\n",
      "[100 rows x 2 columns]\n"
     ]
    }
   ],
   "source": [
    "print(vv_synthetic)"
   ]
  },
  {
   "cell_type": "code",
   "execution_count": null,
   "id": "c436a554",
   "metadata": {},
   "outputs": [],
   "source": [
    "nv_batches = []\n",
    "\n",
    "for _ in range(10):  \n",
    "    raw_text = generate_synthetic_letters(nv_letters)\n",
    "    \n",
    "    # Convert the raw string into a DataFrame with one row per letter\n",
    "    split_df = clean_and_split_letters(raw_text, referral_type='non vascular')\n",
    "    \n",
    "    nv_batches.append(split_df)\n",
    "\n",
    "# Combine all batches into one DataFrame\n",
    "nv_synthetic = pd.concat(nv_batches, ignore_index=True)\n"
   ]
  },
  {
   "cell_type": "code",
   "execution_count": 9,
   "id": "6d096fbe",
   "metadata": {},
   "outputs": [
    {
     "name": "stdout",
     "output_type": "stream",
     "text": [
      "                                         letter_text  referal_type\n",
      "0  Dear Colleague, I am referring a 63-year-old f...  non vascular\n",
      "1  Dear Colleague, This 47-year-old male presents...  non vascular\n",
      "2  Dear doctor, A 38-year-old female reports freq...  non vascular\n",
      "3  Dear Colleague, I am referring a 54-year-old m...  non vascular\n",
      "4  Dear Colleague, This 29-year-old female presen...  non vascular\n",
      "5  Dear doctor, I am referring a 50-year-old male...  non vascular\n",
      "6  Dear Colleague, This 45-year-old female presen...  non vascular\n",
      "7  Dear Colleague, A 60-year-old male with a hist...  non vascular\n",
      "8  Dear doctor, I am referring a 34-year-old fema...  non vascular\n",
      "9  Dear Colleague, This 72-year-old female presen...  non vascular\n"
     ]
    }
   ],
   "source": [
    "print(nv_synthetic)"
   ]
  },
  {
   "cell_type": "code",
   "execution_count": null,
   "id": "59cde284",
   "metadata": {},
   "outputs": [],
   "source": [
    "# Combine all synthetic DataFrames into one\n",
    "combined_df = pd.concat([pvd_synthetic, vv_synthetic, nv_synthetic], ignore_index=True)\n",
    "\n",
    "\n",
    "\n",
    "# Save the combined DataFrame to a CSV file\n",
    "combined_df.to_csv('synthetic_data.csv', index=False)"
   ]
  },
  {
   "cell_type": "code",
   "execution_count": null,
   "id": "fddfc403",
   "metadata": {},
   "outputs": [],
   "source": [
    "nv_synthetic.to_csv('nv_synthetic.csv', index=False)"
   ]
  }
 ],
 "metadata": {
  "kernelspec": {
   "display_name": "Python 3",
   "language": "python",
   "name": "python3"
  },
  "language_info": {
   "codemirror_mode": {
    "name": "ipython",
    "version": 3
   },
   "file_extension": ".py",
   "mimetype": "text/x-python",
   "name": "python",
   "nbconvert_exporter": "python",
   "pygments_lexer": "ipython3",
   "version": "3.11.9"
  }
 },
 "nbformat": 4,
 "nbformat_minor": 5
}
