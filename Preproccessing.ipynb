{
  "nbformat": 4,
  "nbformat_minor": 0,
  "metadata": {
    "colab": {
      "provenance": []
    },
    "kernelspec": {
      "name": "python3",
      "display_name": "Python 3"
    },
    "language_info": {
      "name": "python"
    }
  },
  "cells": [
    {
      "cell_type": "code",
      "source": [
        "import nltk\n",
        "nltk.download()"
      ],
      "metadata": {
        "colab": {
          "base_uri": "https://localhost:8080/"
        },
        "id": "5h0guDjf8WkK",
        "outputId": "ad28a2e5-de8c-4fab-a1e4-1f6aee5c7c7e"
      },
      "execution_count": null,
      "outputs": [
        {
          "name": "stdout",
          "output_type": "stream",
          "text": [
            "NLTK Downloader\n",
            "---------------------------------------------------------------------------\n",
            "    d) Download   l) List    u) Update   c) Config   h) Help   q) Quit\n",
            "---------------------------------------------------------------------------\n",
            "Downloader> \n",
            "\n",
            "---------------------------------------------------------------------------\n",
            "    d) Download   l) List    u) Update   c) Config   h) Help   q) Quit\n",
            "---------------------------------------------------------------------------\n",
            "Downloader> q\n"
          ]
        },
        {
          "output_type": "execute_result",
          "data": {
            "text/plain": [
              "True"
            ]
          },
          "metadata": {},
          "execution_count": 2
        }
      ]
    },
    {
      "cell_type": "code",
      "source": [
        "pip install nltk"
      ],
      "metadata": {
        "colab": {
          "base_uri": "https://localhost:8080/"
        },
        "id": "9E8Ahe6d88kX",
        "outputId": "9a83dce3-5be2-402a-eec8-cbb6a4f99fe8"
      },
      "execution_count": null,
      "outputs": [
        {
          "output_type": "stream",
          "name": "stdout",
          "text": [
            "Requirement already satisfied: nltk in /usr/local/lib/python3.11/dist-packages (3.9.1)\n",
            "Requirement already satisfied: click in /usr/local/lib/python3.11/dist-packages (from nltk) (8.2.1)\n",
            "Requirement already satisfied: joblib in /usr/local/lib/python3.11/dist-packages (from nltk) (1.5.1)\n",
            "Requirement already satisfied: regex>=2021.8.3 in /usr/local/lib/python3.11/dist-packages (from nltk) (2024.11.6)\n",
            "Requirement already satisfied: tqdm in /usr/local/lib/python3.11/dist-packages (from nltk) (4.67.1)\n"
          ]
        }
      ]
    },
    {
      "cell_type": "code",
      "source": [
        "pip install contractions"
      ],
      "metadata": {
        "colab": {
          "base_uri": "https://localhost:8080/"
        },
        "id": "KaGRtj_x0LPF",
        "outputId": "04f97e22-cf4b-4287-d85c-9a404007840d"
      },
      "execution_count": null,
      "outputs": [
        {
          "output_type": "stream",
          "name": "stdout",
          "text": [
            "Collecting contractions\n",
            "  Downloading contractions-0.1.73-py2.py3-none-any.whl.metadata (1.2 kB)\n",
            "Collecting textsearch>=0.0.21 (from contractions)\n",
            "  Downloading textsearch-0.0.24-py2.py3-none-any.whl.metadata (1.2 kB)\n",
            "Collecting anyascii (from textsearch>=0.0.21->contractions)\n",
            "  Downloading anyascii-0.3.3-py3-none-any.whl.metadata (1.6 kB)\n",
            "Collecting pyahocorasick (from textsearch>=0.0.21->contractions)\n",
            "  Downloading pyahocorasick-2.2.0-cp311-cp311-manylinux_2_17_x86_64.manylinux2014_x86_64.whl.metadata (13 kB)\n",
            "Downloading contractions-0.1.73-py2.py3-none-any.whl (8.7 kB)\n",
            "Downloading textsearch-0.0.24-py2.py3-none-any.whl (7.6 kB)\n",
            "Downloading anyascii-0.3.3-py3-none-any.whl (345 kB)\n",
            "\u001b[2K   \u001b[90m━━━━━━━━━━━━━━━━━━━━━━━━━━━━━━━━━━━━━━━━\u001b[0m \u001b[32m345.1/345.1 kB\u001b[0m \u001b[31m5.1 MB/s\u001b[0m eta \u001b[36m0:00:00\u001b[0m\n",
            "\u001b[?25hDownloading pyahocorasick-2.2.0-cp311-cp311-manylinux_2_17_x86_64.manylinux2014_x86_64.whl (113 kB)\n",
            "\u001b[2K   \u001b[90m━━━━━━━━━━━━━━━━━━━━━━━━━━━━━━━━━━━━━━━━\u001b[0m \u001b[32m113.9/113.9 kB\u001b[0m \u001b[31m7.8 MB/s\u001b[0m eta \u001b[36m0:00:00\u001b[0m\n",
            "\u001b[?25hInstalling collected packages: pyahocorasick, anyascii, textsearch, contractions\n",
            "Successfully installed anyascii-0.3.3 contractions-0.1.73 pyahocorasick-2.2.0 textsearch-0.0.24\n"
          ]
        }
      ]
    },
    {
      "cell_type": "code",
      "source": [
        "import pandas as pd\n",
        "import contractions\n",
        "import string\n",
        "from nltk.corpus import stopwords\n",
        "from nltk.corpus import wordnet\n",
        "from nltk.stem import WordNetLemmatizer\n",
        "\n",
        "from google.colab import files"
      ],
      "metadata": {
        "id": "YV-_eiErxf2s"
      },
      "execution_count": null,
      "outputs": []
    },
    {
      "cell_type": "code",
      "execution_count": null,
      "metadata": {
        "id": "OEKbxLVswzf-"
      },
      "outputs": [],
      "source": [
        "data = pd.read_csv('data.csv')"
      ]
    },
    {
      "cell_type": "code",
      "source": [
        "pd.set_option('display.max_colwidth', 5000)"
      ],
      "metadata": {
        "id": "rxGNFn5qxeZf"
      },
      "execution_count": null,
      "outputs": []
    },
    {
      "cell_type": "code",
      "source": [
        "data.head()"
      ],
      "metadata": {
        "colab": {
          "base_uri": "https://localhost:8080/",
          "height": 501
        },
        "id": "GhJP_Damxqxl",
        "outputId": "a82de30e-2816-4912-ca29-46c1652af99f"
      },
      "execution_count": null,
      "outputs": [
        {
          "output_type": "execute_result",
          "data": {
            "text/plain": [
              "                                                                                                                                                                                                                                                                                                                                                                                                                                                                                                                                                                                                                  letter_text  \\\n",
              "0                                   Thank you for seeing this 60 year old woman with symptomatic varicose veins for the past one year. Her main symptoms are aching pain, which is worse after long periods of standing or walking. She is also troubled by varicose eczema which is managed with emollient and occasional steroids. On examination, she has prominent veins bilaterally below her knee, which refill after compression. She has normal pedal pulses. He cardiovascular examination is normal. I attached her past medical history and medication list. Your specialist review and advice is most appreciated   \n",
              "1                                                                                                                                     I am referring this 37-year-old female patient presenting with symptomatic varicose veins in right leg. The patient reports pain, aching, heaviness, itching. She has tried conservative management with compression stockings for 12 months with minimal improvement.. On examination, she has visible dilated and tortuous veins in her rt leg, with oedema and pigmentation around her ankle. I would be grateful if you could assess her for further management. Sincerely, Dr. XXX   \n",
              "2  Dear Colleague, This 72 yr old gentleman has had tortuous varicose veins for years. However, recently they have started bleeding requiring dressing, compression and, on one occasion, hospital treatment. While varicose veins on their own do not meet the threshold for treatment on the nhs, I believe this gentleman has met the criteria for extenuating circumstances due to the bleeding. He has AF and is on apixaban which of course is exacerbating things. He is otherwise well though with no other medical conditions and his BMI is within normal range. I would appreciate your thoughts. Yours sincerely,   \n",
              "3                                                                                                                                                                                                                                                                                      Thank you for seeing this 45F with symptomatic varicose veins. She is a hairdresser and this is impacting her work. Her legs ache when standing for long periods of time and sometimes the lumps can be painful to touch. Her mother had the same at her age which resolved with surgery. She would like to be considered for surgery.   \n",
              "4                The doctor thank you for seeing this lady who has a presented with a history of varicose veins for the last two or three years. She has been finding that these are increasingly uncomfortable for her and she has some discomfort particularly in the later part of the day. She has not found compression hosiery to be helpful. Examination today showed extensive varicosities from the greater saphenous vein on both sides and she also has quite extensive varicose eczema on both legs. She has not had ulceration. I would grateful for your help with managing this lady symptoms. Your sincerely.   \n",
              "\n",
              "     referal_type  urgency  \n",
              "0  varicose veins      4.0  \n",
              "1  varicose veins      3.0  \n",
              "2  varicose veins      1.0  \n",
              "3  varicose veins      5.0  \n",
              "4  varicose veins      4.0  "
            ],
            "text/html": [
              "\n",
              "  <div id=\"df-e77b230f-748a-4e22-95e7-9f00784c781e\" class=\"colab-df-container\">\n",
              "    <div>\n",
              "<style scoped>\n",
              "    .dataframe tbody tr th:only-of-type {\n",
              "        vertical-align: middle;\n",
              "    }\n",
              "\n",
              "    .dataframe tbody tr th {\n",
              "        vertical-align: top;\n",
              "    }\n",
              "\n",
              "    .dataframe thead th {\n",
              "        text-align: right;\n",
              "    }\n",
              "</style>\n",
              "<table border=\"1\" class=\"dataframe\">\n",
              "  <thead>\n",
              "    <tr style=\"text-align: right;\">\n",
              "      <th></th>\n",
              "      <th>letter_text</th>\n",
              "      <th>referal_type</th>\n",
              "      <th>urgency</th>\n",
              "    </tr>\n",
              "  </thead>\n",
              "  <tbody>\n",
              "    <tr>\n",
              "      <th>0</th>\n",
              "      <td>Thank you for seeing this 60 year old woman with symptomatic varicose veins for the past one year. Her main symptoms are aching pain, which is worse after long periods of standing or walking. She is also troubled by varicose eczema which is managed with emollient and occasional steroids. On examination, she has prominent veins bilaterally below her knee, which refill after compression. She has normal pedal pulses. He cardiovascular examination is normal. I attached her past medical history and medication list. Your specialist review and advice is most appreciated</td>\n",
              "      <td>varicose veins</td>\n",
              "      <td>4.0</td>\n",
              "    </tr>\n",
              "    <tr>\n",
              "      <th>1</th>\n",
              "      <td>I am referring this 37-year-old female patient presenting with symptomatic varicose veins in right leg. The patient reports pain, aching, heaviness, itching. She has tried conservative management with compression stockings for 12 months with minimal improvement.. On examination, she has visible dilated and tortuous veins in her rt leg, with oedema and pigmentation around her ankle. I would be grateful if you could assess her for further management. Sincerely, Dr. XXX</td>\n",
              "      <td>varicose veins</td>\n",
              "      <td>3.0</td>\n",
              "    </tr>\n",
              "    <tr>\n",
              "      <th>2</th>\n",
              "      <td>Dear Colleague, This 72 yr old gentleman has had tortuous varicose veins for years. However, recently they have started bleeding requiring dressing, compression and, on one occasion, hospital treatment. While varicose veins on their own do not meet the threshold for treatment on the nhs, I believe this gentleman has met the criteria for extenuating circumstances due to the bleeding. He has AF and is on apixaban which of course is exacerbating things. He is otherwise well though with no other medical conditions and his BMI is within normal range. I would appreciate your thoughts. Yours sincerely,</td>\n",
              "      <td>varicose veins</td>\n",
              "      <td>1.0</td>\n",
              "    </tr>\n",
              "    <tr>\n",
              "      <th>3</th>\n",
              "      <td>Thank you for seeing this 45F with symptomatic varicose veins. She is a hairdresser and this is impacting her work. Her legs ache when standing for long periods of time and sometimes the lumps can be painful to touch. Her mother had the same at her age which resolved with surgery. She would like to be considered for surgery.</td>\n",
              "      <td>varicose veins</td>\n",
              "      <td>5.0</td>\n",
              "    </tr>\n",
              "    <tr>\n",
              "      <th>4</th>\n",
              "      <td>The doctor thank you for seeing this lady who has a presented with a history of varicose veins for the last two or three years. She has been finding that these are increasingly uncomfortable for her and she has some discomfort particularly in the later part of the day. She has not found compression hosiery to be helpful. Examination today showed extensive varicosities from the greater saphenous vein on both sides and she also has quite extensive varicose eczema on both legs. She has not had ulceration. I would grateful for your help with managing this lady symptoms. Your sincerely.</td>\n",
              "      <td>varicose veins</td>\n",
              "      <td>4.0</td>\n",
              "    </tr>\n",
              "  </tbody>\n",
              "</table>\n",
              "</div>\n",
              "    <div class=\"colab-df-buttons\">\n",
              "\n",
              "  <div class=\"colab-df-container\">\n",
              "    <button class=\"colab-df-convert\" onclick=\"convertToInteractive('df-e77b230f-748a-4e22-95e7-9f00784c781e')\"\n",
              "            title=\"Convert this dataframe to an interactive table.\"\n",
              "            style=\"display:none;\">\n",
              "\n",
              "  <svg xmlns=\"http://www.w3.org/2000/svg\" height=\"24px\" viewBox=\"0 -960 960 960\">\n",
              "    <path d=\"M120-120v-720h720v720H120Zm60-500h600v-160H180v160Zm220 220h160v-160H400v160Zm0 220h160v-160H400v160ZM180-400h160v-160H180v160Zm440 0h160v-160H620v160ZM180-180h160v-160H180v160Zm440 0h160v-160H620v160Z\"/>\n",
              "  </svg>\n",
              "    </button>\n",
              "\n",
              "  <style>\n",
              "    .colab-df-container {\n",
              "      display:flex;\n",
              "      gap: 12px;\n",
              "    }\n",
              "\n",
              "    .colab-df-convert {\n",
              "      background-color: #E8F0FE;\n",
              "      border: none;\n",
              "      border-radius: 50%;\n",
              "      cursor: pointer;\n",
              "      display: none;\n",
              "      fill: #1967D2;\n",
              "      height: 32px;\n",
              "      padding: 0 0 0 0;\n",
              "      width: 32px;\n",
              "    }\n",
              "\n",
              "    .colab-df-convert:hover {\n",
              "      background-color: #E2EBFA;\n",
              "      box-shadow: 0px 1px 2px rgba(60, 64, 67, 0.3), 0px 1px 3px 1px rgba(60, 64, 67, 0.15);\n",
              "      fill: #174EA6;\n",
              "    }\n",
              "\n",
              "    .colab-df-buttons div {\n",
              "      margin-bottom: 4px;\n",
              "    }\n",
              "\n",
              "    [theme=dark] .colab-df-convert {\n",
              "      background-color: #3B4455;\n",
              "      fill: #D2E3FC;\n",
              "    }\n",
              "\n",
              "    [theme=dark] .colab-df-convert:hover {\n",
              "      background-color: #434B5C;\n",
              "      box-shadow: 0px 1px 3px 1px rgba(0, 0, 0, 0.15);\n",
              "      filter: drop-shadow(0px 1px 2px rgba(0, 0, 0, 0.3));\n",
              "      fill: #FFFFFF;\n",
              "    }\n",
              "  </style>\n",
              "\n",
              "    <script>\n",
              "      const buttonEl =\n",
              "        document.querySelector('#df-e77b230f-748a-4e22-95e7-9f00784c781e button.colab-df-convert');\n",
              "      buttonEl.style.display =\n",
              "        google.colab.kernel.accessAllowed ? 'block' : 'none';\n",
              "\n",
              "      async function convertToInteractive(key) {\n",
              "        const element = document.querySelector('#df-e77b230f-748a-4e22-95e7-9f00784c781e');\n",
              "        const dataTable =\n",
              "          await google.colab.kernel.invokeFunction('convertToInteractive',\n",
              "                                                    [key], {});\n",
              "        if (!dataTable) return;\n",
              "\n",
              "        const docLinkHtml = 'Like what you see? Visit the ' +\n",
              "          '<a target=\"_blank\" href=https://colab.research.google.com/notebooks/data_table.ipynb>data table notebook</a>'\n",
              "          + ' to learn more about interactive tables.';\n",
              "        element.innerHTML = '';\n",
              "        dataTable['output_type'] = 'display_data';\n",
              "        await google.colab.output.renderOutput(dataTable, element);\n",
              "        const docLink = document.createElement('div');\n",
              "        docLink.innerHTML = docLinkHtml;\n",
              "        element.appendChild(docLink);\n",
              "      }\n",
              "    </script>\n",
              "  </div>\n",
              "\n",
              "\n",
              "    <div id=\"df-46298ede-f4e6-43c2-9548-81db86562bee\">\n",
              "      <button class=\"colab-df-quickchart\" onclick=\"quickchart('df-46298ede-f4e6-43c2-9548-81db86562bee')\"\n",
              "                title=\"Suggest charts\"\n",
              "                style=\"display:none;\">\n",
              "\n",
              "<svg xmlns=\"http://www.w3.org/2000/svg\" height=\"24px\"viewBox=\"0 0 24 24\"\n",
              "     width=\"24px\">\n",
              "    <g>\n",
              "        <path d=\"M19 3H5c-1.1 0-2 .9-2 2v14c0 1.1.9 2 2 2h14c1.1 0 2-.9 2-2V5c0-1.1-.9-2-2-2zM9 17H7v-7h2v7zm4 0h-2V7h2v10zm4 0h-2v-4h2v4z\"/>\n",
              "    </g>\n",
              "</svg>\n",
              "      </button>\n",
              "\n",
              "<style>\n",
              "  .colab-df-quickchart {\n",
              "      --bg-color: #E8F0FE;\n",
              "      --fill-color: #1967D2;\n",
              "      --hover-bg-color: #E2EBFA;\n",
              "      --hover-fill-color: #174EA6;\n",
              "      --disabled-fill-color: #AAA;\n",
              "      --disabled-bg-color: #DDD;\n",
              "  }\n",
              "\n",
              "  [theme=dark] .colab-df-quickchart {\n",
              "      --bg-color: #3B4455;\n",
              "      --fill-color: #D2E3FC;\n",
              "      --hover-bg-color: #434B5C;\n",
              "      --hover-fill-color: #FFFFFF;\n",
              "      --disabled-bg-color: #3B4455;\n",
              "      --disabled-fill-color: #666;\n",
              "  }\n",
              "\n",
              "  .colab-df-quickchart {\n",
              "    background-color: var(--bg-color);\n",
              "    border: none;\n",
              "    border-radius: 50%;\n",
              "    cursor: pointer;\n",
              "    display: none;\n",
              "    fill: var(--fill-color);\n",
              "    height: 32px;\n",
              "    padding: 0;\n",
              "    width: 32px;\n",
              "  }\n",
              "\n",
              "  .colab-df-quickchart:hover {\n",
              "    background-color: var(--hover-bg-color);\n",
              "    box-shadow: 0 1px 2px rgba(60, 64, 67, 0.3), 0 1px 3px 1px rgba(60, 64, 67, 0.15);\n",
              "    fill: var(--button-hover-fill-color);\n",
              "  }\n",
              "\n",
              "  .colab-df-quickchart-complete:disabled,\n",
              "  .colab-df-quickchart-complete:disabled:hover {\n",
              "    background-color: var(--disabled-bg-color);\n",
              "    fill: var(--disabled-fill-color);\n",
              "    box-shadow: none;\n",
              "  }\n",
              "\n",
              "  .colab-df-spinner {\n",
              "    border: 2px solid var(--fill-color);\n",
              "    border-color: transparent;\n",
              "    border-bottom-color: var(--fill-color);\n",
              "    animation:\n",
              "      spin 1s steps(1) infinite;\n",
              "  }\n",
              "\n",
              "  @keyframes spin {\n",
              "    0% {\n",
              "      border-color: transparent;\n",
              "      border-bottom-color: var(--fill-color);\n",
              "      border-left-color: var(--fill-color);\n",
              "    }\n",
              "    20% {\n",
              "      border-color: transparent;\n",
              "      border-left-color: var(--fill-color);\n",
              "      border-top-color: var(--fill-color);\n",
              "    }\n",
              "    30% {\n",
              "      border-color: transparent;\n",
              "      border-left-color: var(--fill-color);\n",
              "      border-top-color: var(--fill-color);\n",
              "      border-right-color: var(--fill-color);\n",
              "    }\n",
              "    40% {\n",
              "      border-color: transparent;\n",
              "      border-right-color: var(--fill-color);\n",
              "      border-top-color: var(--fill-color);\n",
              "    }\n",
              "    60% {\n",
              "      border-color: transparent;\n",
              "      border-right-color: var(--fill-color);\n",
              "    }\n",
              "    80% {\n",
              "      border-color: transparent;\n",
              "      border-right-color: var(--fill-color);\n",
              "      border-bottom-color: var(--fill-color);\n",
              "    }\n",
              "    90% {\n",
              "      border-color: transparent;\n",
              "      border-bottom-color: var(--fill-color);\n",
              "    }\n",
              "  }\n",
              "</style>\n",
              "\n",
              "      <script>\n",
              "        async function quickchart(key) {\n",
              "          const quickchartButtonEl =\n",
              "            document.querySelector('#' + key + ' button');\n",
              "          quickchartButtonEl.disabled = true;  // To prevent multiple clicks.\n",
              "          quickchartButtonEl.classList.add('colab-df-spinner');\n",
              "          try {\n",
              "            const charts = await google.colab.kernel.invokeFunction(\n",
              "                'suggestCharts', [key], {});\n",
              "          } catch (error) {\n",
              "            console.error('Error during call to suggestCharts:', error);\n",
              "          }\n",
              "          quickchartButtonEl.classList.remove('colab-df-spinner');\n",
              "          quickchartButtonEl.classList.add('colab-df-quickchart-complete');\n",
              "        }\n",
              "        (() => {\n",
              "          let quickchartButtonEl =\n",
              "            document.querySelector('#df-46298ede-f4e6-43c2-9548-81db86562bee button');\n",
              "          quickchartButtonEl.style.display =\n",
              "            google.colab.kernel.accessAllowed ? 'block' : 'none';\n",
              "        })();\n",
              "      </script>\n",
              "    </div>\n",
              "\n",
              "    </div>\n",
              "  </div>\n"
            ],
            "application/vnd.google.colaboratory.intrinsic+json": {
              "type": "dataframe",
              "variable_name": "data",
              "summary": "{\n  \"name\": \"data\",\n  \"rows\": 408,\n  \"fields\": [\n    {\n      \"column\": \"letter_text\",\n      \"properties\": {\n        \"dtype\": \"string\",\n        \"num_unique_values\": 394,\n        \"samples\": [\n          \"Dear Colleague, This 58-year-old female presents with macroscopic haematuria. She has no associated pain or other urinary symptoms. Please investigate for potential causes, including malignancy. Sincerely, \",\n          \"Dear Vascular Specialist, Please see Mrs. Elaine Thompson, a 47-year-old woman who has been suffering from varicose veins since her last pregnancy two years ago. She reports significant aching and heaviness in both legs, worsening throughout the day and not relieved by compression stockings or rest. Examination today shows extensive varicose veins with early signs of skin changes suggestive of impending ulceration. Mrs. Thompson is anxious about her condition progressing and seeks advice on both surgical and non-surgical options. Thank you for your assistance. Best regards, Dr. Emily White\",\n          \"Dear Vascular Specialist, I seek your guidance for a 39-year-old female, Mrs. Lisa, experiencing persistent leg pain and varicose veins post-pregnancy. Despite using compression stockings for over 24 months, her symptoms of aching and heaviness have not improved. She denies any bleeding or ulceration but suffers from significant discomfort impacting her daily activities. Examination reveals bilateral varicose veins with severe edema. Please advise on potential surgical options or other treatments. Sincerely,\"\n        ],\n        \"semantic_type\": \"\",\n        \"description\": \"\"\n      }\n    },\n    {\n      \"column\": \"referal_type\",\n      \"properties\": {\n        \"dtype\": \"category\",\n        \"num_unique_values\": 3,\n        \"samples\": [\n          \"varicose veins\",\n          \"pvd\",\n          \"non vascular\"\n        ],\n        \"semantic_type\": \"\",\n        \"description\": \"\"\n      }\n    },\n    {\n      \"column\": \"urgency\",\n      \"properties\": {\n        \"dtype\": \"number\",\n        \"std\": 1.6157734879563104,\n        \"min\": 1.0,\n        \"max\": 6.0,\n        \"num_unique_values\": 6,\n        \"samples\": [\n          4.0,\n          3.0,\n          6.0\n        ],\n        \"semantic_type\": \"\",\n        \"description\": \"\"\n      }\n    }\n  ]\n}"
            }
          },
          "metadata": {},
          "execution_count": 15
        }
      ]
    },
    {
      "cell_type": "code",
      "source": [
        "data.shape"
      ],
      "metadata": {
        "colab": {
          "base_uri": "https://localhost:8080/"
        },
        "id": "kMHpVJ3JxwOA",
        "outputId": "dbb2ed72-9f81-4a01-d5b3-38ecd088d6d9"
      },
      "execution_count": null,
      "outputs": [
        {
          "output_type": "execute_result",
          "data": {
            "text/plain": [
              "(408, 3)"
            ]
          },
          "metadata": {},
          "execution_count": 16
        }
      ]
    },
    {
      "cell_type": "code",
      "source": [
        "data['referal_type'].value_counts()"
      ],
      "metadata": {
        "colab": {
          "base_uri": "https://localhost:8080/",
          "height": 210
        },
        "id": "_TbnrLwUx0n-",
        "outputId": "8bf8dadc-ec28-4903-fdec-5b1096989728"
      },
      "execution_count": null,
      "outputs": [
        {
          "output_type": "execute_result",
          "data": {
            "text/plain": [
              "referal_type\n",
              "varicose veins    157\n",
              "pvd               131\n",
              "non vascular      120\n",
              "Name: count, dtype: int64"
            ],
            "text/html": [
              "<div>\n",
              "<style scoped>\n",
              "    .dataframe tbody tr th:only-of-type {\n",
              "        vertical-align: middle;\n",
              "    }\n",
              "\n",
              "    .dataframe tbody tr th {\n",
              "        vertical-align: top;\n",
              "    }\n",
              "\n",
              "    .dataframe thead th {\n",
              "        text-align: right;\n",
              "    }\n",
              "</style>\n",
              "<table border=\"1\" class=\"dataframe\">\n",
              "  <thead>\n",
              "    <tr style=\"text-align: right;\">\n",
              "      <th></th>\n",
              "      <th>count</th>\n",
              "    </tr>\n",
              "    <tr>\n",
              "      <th>referal_type</th>\n",
              "      <th></th>\n",
              "    </tr>\n",
              "  </thead>\n",
              "  <tbody>\n",
              "    <tr>\n",
              "      <th>varicose veins</th>\n",
              "      <td>157</td>\n",
              "    </tr>\n",
              "    <tr>\n",
              "      <th>pvd</th>\n",
              "      <td>131</td>\n",
              "    </tr>\n",
              "    <tr>\n",
              "      <th>non vascular</th>\n",
              "      <td>120</td>\n",
              "    </tr>\n",
              "  </tbody>\n",
              "</table>\n",
              "</div><br><label><b>dtype:</b> int64</label>"
            ]
          },
          "metadata": {},
          "execution_count": 17
        }
      ]
    },
    {
      "cell_type": "code",
      "source": [
        "data.groupby('referal_type')['urgency'].value_counts().unstack(fill_value=0)"
      ],
      "metadata": {
        "colab": {
          "base_uri": "https://localhost:8080/",
          "height": 143
        },
        "id": "E3cQARk5yJ69",
        "outputId": "0a503d3d-84f8-4de8-c989-8bb3afe981fa"
      },
      "execution_count": null,
      "outputs": [
        {
          "output_type": "execute_result",
          "data": {
            "text/plain": [
              "urgency         1.0  2.0  3.0  4.0  5.0  6.0\n",
              "referal_type                                \n",
              "pvd               2    5    6   43   44   31\n",
              "varicose veins   41   42   20   27   27    0"
            ],
            "text/html": [
              "\n",
              "  <div id=\"df-53145419-4b26-448f-b819-e988db34c24c\" class=\"colab-df-container\">\n",
              "    <div>\n",
              "<style scoped>\n",
              "    .dataframe tbody tr th:only-of-type {\n",
              "        vertical-align: middle;\n",
              "    }\n",
              "\n",
              "    .dataframe tbody tr th {\n",
              "        vertical-align: top;\n",
              "    }\n",
              "\n",
              "    .dataframe thead th {\n",
              "        text-align: right;\n",
              "    }\n",
              "</style>\n",
              "<table border=\"1\" class=\"dataframe\">\n",
              "  <thead>\n",
              "    <tr style=\"text-align: right;\">\n",
              "      <th>urgency</th>\n",
              "      <th>1.0</th>\n",
              "      <th>2.0</th>\n",
              "      <th>3.0</th>\n",
              "      <th>4.0</th>\n",
              "      <th>5.0</th>\n",
              "      <th>6.0</th>\n",
              "    </tr>\n",
              "    <tr>\n",
              "      <th>referal_type</th>\n",
              "      <th></th>\n",
              "      <th></th>\n",
              "      <th></th>\n",
              "      <th></th>\n",
              "      <th></th>\n",
              "      <th></th>\n",
              "    </tr>\n",
              "  </thead>\n",
              "  <tbody>\n",
              "    <tr>\n",
              "      <th>pvd</th>\n",
              "      <td>2</td>\n",
              "      <td>5</td>\n",
              "      <td>6</td>\n",
              "      <td>43</td>\n",
              "      <td>44</td>\n",
              "      <td>31</td>\n",
              "    </tr>\n",
              "    <tr>\n",
              "      <th>varicose veins</th>\n",
              "      <td>41</td>\n",
              "      <td>42</td>\n",
              "      <td>20</td>\n",
              "      <td>27</td>\n",
              "      <td>27</td>\n",
              "      <td>0</td>\n",
              "    </tr>\n",
              "  </tbody>\n",
              "</table>\n",
              "</div>\n",
              "    <div class=\"colab-df-buttons\">\n",
              "\n",
              "  <div class=\"colab-df-container\">\n",
              "    <button class=\"colab-df-convert\" onclick=\"convertToInteractive('df-53145419-4b26-448f-b819-e988db34c24c')\"\n",
              "            title=\"Convert this dataframe to an interactive table.\"\n",
              "            style=\"display:none;\">\n",
              "\n",
              "  <svg xmlns=\"http://www.w3.org/2000/svg\" height=\"24px\" viewBox=\"0 -960 960 960\">\n",
              "    <path d=\"M120-120v-720h720v720H120Zm60-500h600v-160H180v160Zm220 220h160v-160H400v160Zm0 220h160v-160H400v160ZM180-400h160v-160H180v160Zm440 0h160v-160H620v160ZM180-180h160v-160H180v160Zm440 0h160v-160H620v160Z\"/>\n",
              "  </svg>\n",
              "    </button>\n",
              "\n",
              "  <style>\n",
              "    .colab-df-container {\n",
              "      display:flex;\n",
              "      gap: 12px;\n",
              "    }\n",
              "\n",
              "    .colab-df-convert {\n",
              "      background-color: #E8F0FE;\n",
              "      border: none;\n",
              "      border-radius: 50%;\n",
              "      cursor: pointer;\n",
              "      display: none;\n",
              "      fill: #1967D2;\n",
              "      height: 32px;\n",
              "      padding: 0 0 0 0;\n",
              "      width: 32px;\n",
              "    }\n",
              "\n",
              "    .colab-df-convert:hover {\n",
              "      background-color: #E2EBFA;\n",
              "      box-shadow: 0px 1px 2px rgba(60, 64, 67, 0.3), 0px 1px 3px 1px rgba(60, 64, 67, 0.15);\n",
              "      fill: #174EA6;\n",
              "    }\n",
              "\n",
              "    .colab-df-buttons div {\n",
              "      margin-bottom: 4px;\n",
              "    }\n",
              "\n",
              "    [theme=dark] .colab-df-convert {\n",
              "      background-color: #3B4455;\n",
              "      fill: #D2E3FC;\n",
              "    }\n",
              "\n",
              "    [theme=dark] .colab-df-convert:hover {\n",
              "      background-color: #434B5C;\n",
              "      box-shadow: 0px 1px 3px 1px rgba(0, 0, 0, 0.15);\n",
              "      filter: drop-shadow(0px 1px 2px rgba(0, 0, 0, 0.3));\n",
              "      fill: #FFFFFF;\n",
              "    }\n",
              "  </style>\n",
              "\n",
              "    <script>\n",
              "      const buttonEl =\n",
              "        document.querySelector('#df-53145419-4b26-448f-b819-e988db34c24c button.colab-df-convert');\n",
              "      buttonEl.style.display =\n",
              "        google.colab.kernel.accessAllowed ? 'block' : 'none';\n",
              "\n",
              "      async function convertToInteractive(key) {\n",
              "        const element = document.querySelector('#df-53145419-4b26-448f-b819-e988db34c24c');\n",
              "        const dataTable =\n",
              "          await google.colab.kernel.invokeFunction('convertToInteractive',\n",
              "                                                    [key], {});\n",
              "        if (!dataTable) return;\n",
              "\n",
              "        const docLinkHtml = 'Like what you see? Visit the ' +\n",
              "          '<a target=\"_blank\" href=https://colab.research.google.com/notebooks/data_table.ipynb>data table notebook</a>'\n",
              "          + ' to learn more about interactive tables.';\n",
              "        element.innerHTML = '';\n",
              "        dataTable['output_type'] = 'display_data';\n",
              "        await google.colab.output.renderOutput(dataTable, element);\n",
              "        const docLink = document.createElement('div');\n",
              "        docLink.innerHTML = docLinkHtml;\n",
              "        element.appendChild(docLink);\n",
              "      }\n",
              "    </script>\n",
              "  </div>\n",
              "\n",
              "\n",
              "    <div id=\"df-6649a7cb-12fb-45fa-8b58-a5c6be3aee10\">\n",
              "      <button class=\"colab-df-quickchart\" onclick=\"quickchart('df-6649a7cb-12fb-45fa-8b58-a5c6be3aee10')\"\n",
              "                title=\"Suggest charts\"\n",
              "                style=\"display:none;\">\n",
              "\n",
              "<svg xmlns=\"http://www.w3.org/2000/svg\" height=\"24px\"viewBox=\"0 0 24 24\"\n",
              "     width=\"24px\">\n",
              "    <g>\n",
              "        <path d=\"M19 3H5c-1.1 0-2 .9-2 2v14c0 1.1.9 2 2 2h14c1.1 0 2-.9 2-2V5c0-1.1-.9-2-2-2zM9 17H7v-7h2v7zm4 0h-2V7h2v10zm4 0h-2v-4h2v4z\"/>\n",
              "    </g>\n",
              "</svg>\n",
              "      </button>\n",
              "\n",
              "<style>\n",
              "  .colab-df-quickchart {\n",
              "      --bg-color: #E8F0FE;\n",
              "      --fill-color: #1967D2;\n",
              "      --hover-bg-color: #E2EBFA;\n",
              "      --hover-fill-color: #174EA6;\n",
              "      --disabled-fill-color: #AAA;\n",
              "      --disabled-bg-color: #DDD;\n",
              "  }\n",
              "\n",
              "  [theme=dark] .colab-df-quickchart {\n",
              "      --bg-color: #3B4455;\n",
              "      --fill-color: #D2E3FC;\n",
              "      --hover-bg-color: #434B5C;\n",
              "      --hover-fill-color: #FFFFFF;\n",
              "      --disabled-bg-color: #3B4455;\n",
              "      --disabled-fill-color: #666;\n",
              "  }\n",
              "\n",
              "  .colab-df-quickchart {\n",
              "    background-color: var(--bg-color);\n",
              "    border: none;\n",
              "    border-radius: 50%;\n",
              "    cursor: pointer;\n",
              "    display: none;\n",
              "    fill: var(--fill-color);\n",
              "    height: 32px;\n",
              "    padding: 0;\n",
              "    width: 32px;\n",
              "  }\n",
              "\n",
              "  .colab-df-quickchart:hover {\n",
              "    background-color: var(--hover-bg-color);\n",
              "    box-shadow: 0 1px 2px rgba(60, 64, 67, 0.3), 0 1px 3px 1px rgba(60, 64, 67, 0.15);\n",
              "    fill: var(--button-hover-fill-color);\n",
              "  }\n",
              "\n",
              "  .colab-df-quickchart-complete:disabled,\n",
              "  .colab-df-quickchart-complete:disabled:hover {\n",
              "    background-color: var(--disabled-bg-color);\n",
              "    fill: var(--disabled-fill-color);\n",
              "    box-shadow: none;\n",
              "  }\n",
              "\n",
              "  .colab-df-spinner {\n",
              "    border: 2px solid var(--fill-color);\n",
              "    border-color: transparent;\n",
              "    border-bottom-color: var(--fill-color);\n",
              "    animation:\n",
              "      spin 1s steps(1) infinite;\n",
              "  }\n",
              "\n",
              "  @keyframes spin {\n",
              "    0% {\n",
              "      border-color: transparent;\n",
              "      border-bottom-color: var(--fill-color);\n",
              "      border-left-color: var(--fill-color);\n",
              "    }\n",
              "    20% {\n",
              "      border-color: transparent;\n",
              "      border-left-color: var(--fill-color);\n",
              "      border-top-color: var(--fill-color);\n",
              "    }\n",
              "    30% {\n",
              "      border-color: transparent;\n",
              "      border-left-color: var(--fill-color);\n",
              "      border-top-color: var(--fill-color);\n",
              "      border-right-color: var(--fill-color);\n",
              "    }\n",
              "    40% {\n",
              "      border-color: transparent;\n",
              "      border-right-color: var(--fill-color);\n",
              "      border-top-color: var(--fill-color);\n",
              "    }\n",
              "    60% {\n",
              "      border-color: transparent;\n",
              "      border-right-color: var(--fill-color);\n",
              "    }\n",
              "    80% {\n",
              "      border-color: transparent;\n",
              "      border-right-color: var(--fill-color);\n",
              "      border-bottom-color: var(--fill-color);\n",
              "    }\n",
              "    90% {\n",
              "      border-color: transparent;\n",
              "      border-bottom-color: var(--fill-color);\n",
              "    }\n",
              "  }\n",
              "</style>\n",
              "\n",
              "      <script>\n",
              "        async function quickchart(key) {\n",
              "          const quickchartButtonEl =\n",
              "            document.querySelector('#' + key + ' button');\n",
              "          quickchartButtonEl.disabled = true;  // To prevent multiple clicks.\n",
              "          quickchartButtonEl.classList.add('colab-df-spinner');\n",
              "          try {\n",
              "            const charts = await google.colab.kernel.invokeFunction(\n",
              "                'suggestCharts', [key], {});\n",
              "          } catch (error) {\n",
              "            console.error('Error during call to suggestCharts:', error);\n",
              "          }\n",
              "          quickchartButtonEl.classList.remove('colab-df-spinner');\n",
              "          quickchartButtonEl.classList.add('colab-df-quickchart-complete');\n",
              "        }\n",
              "        (() => {\n",
              "          let quickchartButtonEl =\n",
              "            document.querySelector('#df-6649a7cb-12fb-45fa-8b58-a5c6be3aee10 button');\n",
              "          quickchartButtonEl.style.display =\n",
              "            google.colab.kernel.accessAllowed ? 'block' : 'none';\n",
              "        })();\n",
              "      </script>\n",
              "    </div>\n",
              "\n",
              "    </div>\n",
              "  </div>\n"
            ],
            "application/vnd.google.colaboratory.intrinsic+json": {
              "type": "dataframe",
              "summary": "{\n  \"name\": \"data\",\n  \"rows\": 2,\n  \"fields\": [\n    {\n      \"column\": \"referal_type\",\n      \"properties\": {\n        \"dtype\": \"string\",\n        \"num_unique_values\": 2,\n        \"samples\": [\n          \"varicose veins\",\n          \"pvd\"\n        ],\n        \"semantic_type\": \"\",\n        \"description\": \"\"\n      }\n    },\n    {\n      \"column\": 1.0,\n      \"properties\": {\n        \"dtype\": \"number\",\n        \"std\": 27,\n        \"min\": 2,\n        \"max\": 41,\n        \"num_unique_values\": 2,\n        \"samples\": [\n          41,\n          2\n        ],\n        \"semantic_type\": \"\",\n        \"description\": \"\"\n      }\n    },\n    {\n      \"column\": 2.0,\n      \"properties\": {\n        \"dtype\": \"number\",\n        \"std\": 26,\n        \"min\": 5,\n        \"max\": 42,\n        \"num_unique_values\": 2,\n        \"samples\": [\n          42,\n          5\n        ],\n        \"semantic_type\": \"\",\n        \"description\": \"\"\n      }\n    },\n    {\n      \"column\": 3.0,\n      \"properties\": {\n        \"dtype\": \"number\",\n        \"std\": 9,\n        \"min\": 6,\n        \"max\": 20,\n        \"num_unique_values\": 2,\n        \"samples\": [\n          20,\n          6\n        ],\n        \"semantic_type\": \"\",\n        \"description\": \"\"\n      }\n    },\n    {\n      \"column\": 4.0,\n      \"properties\": {\n        \"dtype\": \"number\",\n        \"std\": 11,\n        \"min\": 27,\n        \"max\": 43,\n        \"num_unique_values\": 2,\n        \"samples\": [\n          27,\n          43\n        ],\n        \"semantic_type\": \"\",\n        \"description\": \"\"\n      }\n    },\n    {\n      \"column\": 5.0,\n      \"properties\": {\n        \"dtype\": \"number\",\n        \"std\": 12,\n        \"min\": 27,\n        \"max\": 44,\n        \"num_unique_values\": 2,\n        \"samples\": [\n          27,\n          44\n        ],\n        \"semantic_type\": \"\",\n        \"description\": \"\"\n      }\n    },\n    {\n      \"column\": 6.0,\n      \"properties\": {\n        \"dtype\": \"number\",\n        \"std\": 21,\n        \"min\": 0,\n        \"max\": 31,\n        \"num_unique_values\": 2,\n        \"samples\": [\n          0,\n          31\n        ],\n        \"semantic_type\": \"\",\n        \"description\": \"\"\n      }\n    }\n  ]\n}"
            }
          },
          "metadata": {},
          "execution_count": 12
        }
      ]
    },
    {
      "cell_type": "code",
      "source": [
        "data_merged = data.copy()\n",
        "data_merged = data_merged[data_merged['referal_type'] != 'non vascular']\n",
        "print(data_merged['referal_type'].unique())\n",
        "\n",
        "data_merged['target'] = data_merged['referal_type'].astype(str) + '_' + data_merged['urgency'].astype(str)\n",
        "data_merged.to_csv(\"data_merged.csv\", index=False)\n",
        "data_merged = data_merged.drop(['referal_type', 'urgency'], axis=1)\n",
        "\n",
        "# Step 2: Export to CSV\n",
        "data_merged.to_csv(\"filtered_data.csv\", index=False)\n",
        "files.download(\"filtered_data.csv\")"
      ],
      "metadata": {
        "id": "mEHBXO9axWp7"
      },
      "execution_count": null,
      "outputs": []
    },
    {
      "cell_type": "markdown",
      "source": [
        "Merging target features"
      ],
      "metadata": {
        "id": "Hg1fY2Qkfxdg"
      }
    },
    {
      "cell_type": "code",
      "source": [
        "data_merged = data.copy()\n",
        "\n",
        "data_merged['urgency'] = data_merged['urgency'].dropna()\n",
        "\n",
        "data_merged['target'] = data_merged['referal_type'].astype(str) + '_' + data_merged['urgency'].astype(str)\n",
        "data_merged.to_csv(\"data_merged.csv\", index=False)\n",
        "\n",
        "files.download(\"data_merged.csv\")"
      ],
      "metadata": {
        "colab": {
          "base_uri": "https://localhost:8080/",
          "height": 17
        },
        "id": "By7y4M3cfw8u",
        "outputId": "2bc88d91-fcac-421c-d9b3-8f4e6062c7f3"
      },
      "execution_count": null,
      "outputs": [
        {
          "output_type": "display_data",
          "data": {
            "text/plain": [
              "<IPython.core.display.Javascript object>"
            ],
            "application/javascript": [
              "\n",
              "    async function download(id, filename, size) {\n",
              "      if (!google.colab.kernel.accessAllowed) {\n",
              "        return;\n",
              "      }\n",
              "      const div = document.createElement('div');\n",
              "      const label = document.createElement('label');\n",
              "      label.textContent = `Downloading \"${filename}\": `;\n",
              "      div.appendChild(label);\n",
              "      const progress = document.createElement('progress');\n",
              "      progress.max = size;\n",
              "      div.appendChild(progress);\n",
              "      document.body.appendChild(div);\n",
              "\n",
              "      const buffers = [];\n",
              "      let downloaded = 0;\n",
              "\n",
              "      const channel = await google.colab.kernel.comms.open(id);\n",
              "      // Send a message to notify the kernel that we're ready.\n",
              "      channel.send({})\n",
              "\n",
              "      for await (const message of channel.messages) {\n",
              "        // Send a message to notify the kernel that we're ready.\n",
              "        channel.send({})\n",
              "        if (message.buffers) {\n",
              "          for (const buffer of message.buffers) {\n",
              "            buffers.push(buffer);\n",
              "            downloaded += buffer.byteLength;\n",
              "            progress.value = downloaded;\n",
              "          }\n",
              "        }\n",
              "      }\n",
              "      const blob = new Blob(buffers, {type: 'application/binary'});\n",
              "      const a = document.createElement('a');\n",
              "      a.href = window.URL.createObjectURL(blob);\n",
              "      a.download = filename;\n",
              "      div.appendChild(a);\n",
              "      a.click();\n",
              "      div.remove();\n",
              "    }\n",
              "  "
            ]
          },
          "metadata": {}
        },
        {
          "output_type": "display_data",
          "data": {
            "text/plain": [
              "<IPython.core.display.Javascript object>"
            ],
            "application/javascript": [
              "download(\"download_542636d6-3592-4678-a189-ace4011ddc2c\", \"data_merged.csv\", 195286)"
            ]
          },
          "metadata": {}
        }
      ]
    },
    {
      "cell_type": "markdown",
      "source": [
        "Preprocessing"
      ],
      "metadata": {
        "id": "VSBJttUfyqn9"
      }
    },
    {
      "cell_type": "code",
      "source": [
        "data = data.astype({'letter_text':'string'})\n",
        "processingText = data ['letter_text']\n",
        "\n",
        "comparingText = []\n",
        "comparingText.append(processingText[10])\n",
        "comparingText.append(processingText[107])\n",
        "comparingText.append(processingText[268])\n",
        "comparingText.append(processingText[407])\n",
        "\n",
        "comparingText = pd.Series(comparingText)\n",
        "comparingText"
      ],
      "metadata": {
        "colab": {
          "base_uri": "https://localhost:8080/",
          "height": 418
        },
        "id": "28AybvwmyRso",
        "outputId": "e49d8540-4386-40c1-b488-23f1dc89b75f"
      },
      "execution_count": null,
      "outputs": [
        {
          "output_type": "execute_result",
          "data": {
            "text/plain": [
              "0                                                                                  The doctor thanks you for seeing this lady who has presented with a history of varicose veins for the last five years. She has been finding that these are increasingly uncomfortable for her and she has some discomfort particularly in the later part of the day. She has not found compression hosiery to be helpful. Examination today showed extensive varicosities from the greater saphenous vein on both sides and she also has quite extensive varicose eczema on both legs. She has not had ulceration. I would grateful for your help with managing this lady's symptoms. Your sincerely.\n",
              "1                                                                                                                                             I am referring a 68 year old male who has shown increased intraocular pressure (IOP) during recent examinations, with IOP readings ranging from 22-24 mmHg in both eyes. He has a family history of glaucoma (his father had open angle glaucoma). Visual field testing shows early peripheral visual field defects. Optic disc examination reveals increased cup-to-disc ratio. Please evaluate for glaucoma, considering open angle glaucoma, and initiate appropriate treatment, including topical medications or laser therapy. Yours,\n",
              "2    Dear Specialist, I am referring a 34-year-old female patient who has been experiencing persistent aching pain in her legs due to varicose veins for over 18 months. She has a history of recent pregnancy, which seems to have exacerbated her condition. Despite using compression stockings since the birth of her child, she reports minimal alleviation of symptoms which include heaviness and discomfort, particularly towards the end of the day. On examination, there are visible varicosities in both legs with signs of beginning ulceration on her left ankle. Your expert assessment and advice on further management would be greatly appreciated. Sincerely, Dr. XYZ\n",
              "3                                                                                                                                                                                                                                                                                                                                      Dear Colleague, This 72-year-old female presents with progressive shortness of breath and fatigue on exertion. Echocardiogram reveals aortic stenosis with a valve area of less than 1 cm². She has a history of hypertension and hyperlipidemia. Please assess for potential aortic valve replacement considering her symptomatic status. Yours,\n",
              "dtype: object"
            ],
            "text/html": [
              "<div>\n",
              "<style scoped>\n",
              "    .dataframe tbody tr th:only-of-type {\n",
              "        vertical-align: middle;\n",
              "    }\n",
              "\n",
              "    .dataframe tbody tr th {\n",
              "        vertical-align: top;\n",
              "    }\n",
              "\n",
              "    .dataframe thead th {\n",
              "        text-align: right;\n",
              "    }\n",
              "</style>\n",
              "<table border=\"1\" class=\"dataframe\">\n",
              "  <thead>\n",
              "    <tr style=\"text-align: right;\">\n",
              "      <th></th>\n",
              "      <th>0</th>\n",
              "    </tr>\n",
              "  </thead>\n",
              "  <tbody>\n",
              "    <tr>\n",
              "      <th>0</th>\n",
              "      <td>The doctor thanks you for seeing this lady who has presented with a history of varicose veins for the last five years. She has been finding that these are increasingly uncomfortable for her and she has some discomfort particularly in the later part of the day. She has not found compression hosiery to be helpful. Examination today showed extensive varicosities from the greater saphenous vein on both sides and she also has quite extensive varicose eczema on both legs. She has not had ulceration. I would grateful for your help with managing this lady's symptoms. Your sincerely.</td>\n",
              "    </tr>\n",
              "    <tr>\n",
              "      <th>1</th>\n",
              "      <td>I am referring a 68 year old male who has shown increased intraocular pressure (IOP) during recent examinations, with IOP readings ranging from 22-24 mmHg in both eyes. He has a family history of glaucoma (his father had open angle glaucoma). Visual field testing shows early peripheral visual field defects. Optic disc examination reveals increased cup-to-disc ratio. Please evaluate for glaucoma, considering open angle glaucoma, and initiate appropriate treatment, including topical medications or laser therapy. Yours,</td>\n",
              "    </tr>\n",
              "    <tr>\n",
              "      <th>2</th>\n",
              "      <td>Dear Specialist, I am referring a 34-year-old female patient who has been experiencing persistent aching pain in her legs due to varicose veins for over 18 months. She has a history of recent pregnancy, which seems to have exacerbated her condition. Despite using compression stockings since the birth of her child, she reports minimal alleviation of symptoms which include heaviness and discomfort, particularly towards the end of the day. On examination, there are visible varicosities in both legs with signs of beginning ulceration on her left ankle. Your expert assessment and advice on further management would be greatly appreciated. Sincerely, Dr. XYZ</td>\n",
              "    </tr>\n",
              "    <tr>\n",
              "      <th>3</th>\n",
              "      <td>Dear Colleague, This 72-year-old female presents with progressive shortness of breath and fatigue on exertion. Echocardiogram reveals aortic stenosis with a valve area of less than 1 cm². She has a history of hypertension and hyperlipidemia. Please assess for potential aortic valve replacement considering her symptomatic status. Yours,</td>\n",
              "    </tr>\n",
              "  </tbody>\n",
              "</table>\n",
              "</div><br><label><b>dtype:</b> object</label>"
            ]
          },
          "metadata": {},
          "execution_count": 19
        }
      ]
    },
    {
      "cell_type": "markdown",
      "source": [
        "Contraction"
      ],
      "metadata": {
        "id": "flkhd4qxz_J-"
      }
    },
    {
      "cell_type": "code",
      "source": [
        "def expand_contractions(text):\n",
        "  return contractions.fix(text)\n",
        "\n",
        "TextP = processingText.apply(expand_contractions)\n",
        "\n",
        "comparingText = []\n",
        "comparingText.append(TextP[10])\n",
        "comparingText.append(TextP[107])\n",
        "comparingText.append(TextP[268])\n",
        "comparingText.append(TextP[407])\n",
        "\n",
        "comparingText = pd.Series(comparingText)\n",
        "comparingText"
      ],
      "metadata": {
        "colab": {
          "base_uri": "https://localhost:8080/",
          "height": 418
        },
        "id": "c3aFA0UJyS-F",
        "outputId": "1b5e7dc0-8334-4847-95a7-2ca5c681fc65"
      },
      "execution_count": null,
      "outputs": [
        {
          "output_type": "execute_result",
          "data": {
            "text/plain": [
              "0                                                                                  The doctor thanks you for seeing this lady who has presented with a history of varicose veins for the last five years. She has been finding that these are increasingly uncomfortable for her and she has some discomfort particularly in the later part of the day. She has not found compression hosiery to be helpful. Examination today showed extensive varicosities from the greater saphenous vein on both sides and she also has quite extensive varicose eczema on both legs. She has not had ulceration. I would grateful for your help with managing this lady's symptoms. Your sincerely.\n",
              "1                                                                                                                                             I am referring a 68 year old male who has shown increased intraocular pressure (IOP) during recent examinations, with IOP readings ranging from 22-24 mmHg in both eyes. He has a family history of glaucoma (his father had open angle glaucoma). Visual field testing shows early peripheral visual field defects. Optic disc examination reveals increased cup-to-disc ratio. Please evaluate for glaucoma, considering open angle glaucoma, and initiate appropriate treatment, including topical medications or laser therapy. Yours,\n",
              "2    Dear Specialist, I am referring a 34-year-old female patient who has been experiencing persistent aching pain in her legs due to varicose veins for over 18 months. She has a history of recent pregnancy, which seems to have exacerbated her condition. Despite using compression stockings since the birth of her child, she reports minimal alleviation of symptoms which include heaviness and discomfort, particularly towards the end of the day. On examination, there are visible varicosities in both legs with signs of beginning ulceration on her left ankle. Your expert assessment and advice on further management would be greatly appreciated. Sincerely, Dr. XYZ\n",
              "3                                                                                                                                                                                                                                                                                                                                      Dear Colleague, This 72-year-old female presents with progressive shortness of breath and fatigue on exertion. Echocardiogram reveals aortic stenosis with a valve area of less than 1 cm². She has a history of hypertension and hyperlipidemia. Please assess for potential aortic valve replacement considering her symptomatic status. Yours,\n",
              "dtype: object"
            ],
            "text/html": [
              "<div>\n",
              "<style scoped>\n",
              "    .dataframe tbody tr th:only-of-type {\n",
              "        vertical-align: middle;\n",
              "    }\n",
              "\n",
              "    .dataframe tbody tr th {\n",
              "        vertical-align: top;\n",
              "    }\n",
              "\n",
              "    .dataframe thead th {\n",
              "        text-align: right;\n",
              "    }\n",
              "</style>\n",
              "<table border=\"1\" class=\"dataframe\">\n",
              "  <thead>\n",
              "    <tr style=\"text-align: right;\">\n",
              "      <th></th>\n",
              "      <th>0</th>\n",
              "    </tr>\n",
              "  </thead>\n",
              "  <tbody>\n",
              "    <tr>\n",
              "      <th>0</th>\n",
              "      <td>The doctor thanks you for seeing this lady who has presented with a history of varicose veins for the last five years. She has been finding that these are increasingly uncomfortable for her and she has some discomfort particularly in the later part of the day. She has not found compression hosiery to be helpful. Examination today showed extensive varicosities from the greater saphenous vein on both sides and she also has quite extensive varicose eczema on both legs. She has not had ulceration. I would grateful for your help with managing this lady's symptoms. Your sincerely.</td>\n",
              "    </tr>\n",
              "    <tr>\n",
              "      <th>1</th>\n",
              "      <td>I am referring a 68 year old male who has shown increased intraocular pressure (IOP) during recent examinations, with IOP readings ranging from 22-24 mmHg in both eyes. He has a family history of glaucoma (his father had open angle glaucoma). Visual field testing shows early peripheral visual field defects. Optic disc examination reveals increased cup-to-disc ratio. Please evaluate for glaucoma, considering open angle glaucoma, and initiate appropriate treatment, including topical medications or laser therapy. Yours,</td>\n",
              "    </tr>\n",
              "    <tr>\n",
              "      <th>2</th>\n",
              "      <td>Dear Specialist, I am referring a 34-year-old female patient who has been experiencing persistent aching pain in her legs due to varicose veins for over 18 months. She has a history of recent pregnancy, which seems to have exacerbated her condition. Despite using compression stockings since the birth of her child, she reports minimal alleviation of symptoms which include heaviness and discomfort, particularly towards the end of the day. On examination, there are visible varicosities in both legs with signs of beginning ulceration on her left ankle. Your expert assessment and advice on further management would be greatly appreciated. Sincerely, Dr. XYZ</td>\n",
              "    </tr>\n",
              "    <tr>\n",
              "      <th>3</th>\n",
              "      <td>Dear Colleague, This 72-year-old female presents with progressive shortness of breath and fatigue on exertion. Echocardiogram reveals aortic stenosis with a valve area of less than 1 cm². She has a history of hypertension and hyperlipidemia. Please assess for potential aortic valve replacement considering her symptomatic status. Yours,</td>\n",
              "    </tr>\n",
              "  </tbody>\n",
              "</table>\n",
              "</div><br><label><b>dtype:</b> object</label>"
            ]
          },
          "metadata": {},
          "execution_count": 20
        }
      ]
    },
    {
      "cell_type": "markdown",
      "source": [
        "Remove Punctuation"
      ],
      "metadata": {
        "id": "46eZMzDg07ZN"
      }
    },
    {
      "cell_type": "code",
      "source": [
        "processingText = TextP\n",
        "\n",
        "TextP = []\n",
        "\n",
        "for letter in processingText:\n",
        "  #remove '-' and replace with whitespace then remove all other punctuation\n",
        "  letter = letter.replace('-', ' ')\n",
        "  letter = letter.translate(str.maketrans('', '', string.punctuation))\n",
        "  TextP.append(letter)\n",
        "\n",
        "TextP = pd.Series(TextP)\n",
        "comparingText = []\n",
        "comparingText.append(TextP[10])\n",
        "comparingText.append(TextP[107])\n",
        "comparingText.append(TextP[268])\n",
        "comparingText.append(TextP[407])\n",
        "\n",
        "comparingText = pd.Series(comparingText)\n",
        "comparingText"
      ],
      "metadata": {
        "colab": {
          "base_uri": "https://localhost:8080/",
          "height": 418
        },
        "id": "HhDLjEQT0bn1",
        "outputId": "22f52f61-b99b-4e76-c1a6-e89591f55d87"
      },
      "execution_count": null,
      "outputs": [
        {
          "output_type": "execute_result",
          "data": {
            "text/plain": [
              "0                                                                              The doctor thanks you for seeing this lady who has presented with a history of varicose veins for the last five years She has been finding that these are increasingly uncomfortable for her and she has some discomfort particularly in the later part of the day She has not found compression hosiery to be helpful Examination today showed extensive varicosities from the greater saphenous vein on both sides and she also has quite extensive varicose eczema on both legs She has not had ulceration I would grateful for your help with managing this ladys symptoms Your sincerely\n",
              "1                                                                                                                                               I am referring a 68 year old male who has shown increased intraocular pressure IOP during recent examinations with IOP readings ranging from 22 24 mmHg in both eyes He has a family history of glaucoma his father had open angle glaucoma Visual field testing shows early peripheral visual field defects Optic disc examination reveals increased cup to disc ratio Please evaluate for glaucoma considering open angle glaucoma and initiate appropriate treatment including topical medications or laser therapy Yours\n",
              "2    Dear Specialist I am referring a 34 year old female patient who has been experiencing persistent aching pain in her legs due to varicose veins for over 18 months She has a history of recent pregnancy which seems to have exacerbated her condition Despite using compression stockings since the birth of her child she reports minimal alleviation of symptoms which include heaviness and discomfort particularly towards the end of the day On examination there are visible varicosities in both legs with signs of beginning ulceration on her left ankle Your expert assessment and advice on further management would be greatly appreciated Sincerely Dr XYZ\n",
              "3                                                                                                                                                                                                                                                                                                                                Dear Colleague This 72 year old female presents with progressive shortness of breath and fatigue on exertion Echocardiogram reveals aortic stenosis with a valve area of less than 1 cm² She has a history of hypertension and hyperlipidemia Please assess for potential aortic valve replacement considering her symptomatic status Yours\n",
              "dtype: object"
            ],
            "text/html": [
              "<div>\n",
              "<style scoped>\n",
              "    .dataframe tbody tr th:only-of-type {\n",
              "        vertical-align: middle;\n",
              "    }\n",
              "\n",
              "    .dataframe tbody tr th {\n",
              "        vertical-align: top;\n",
              "    }\n",
              "\n",
              "    .dataframe thead th {\n",
              "        text-align: right;\n",
              "    }\n",
              "</style>\n",
              "<table border=\"1\" class=\"dataframe\">\n",
              "  <thead>\n",
              "    <tr style=\"text-align: right;\">\n",
              "      <th></th>\n",
              "      <th>0</th>\n",
              "    </tr>\n",
              "  </thead>\n",
              "  <tbody>\n",
              "    <tr>\n",
              "      <th>0</th>\n",
              "      <td>The doctor thanks you for seeing this lady who has presented with a history of varicose veins for the last five years She has been finding that these are increasingly uncomfortable for her and she has some discomfort particularly in the later part of the day She has not found compression hosiery to be helpful Examination today showed extensive varicosities from the greater saphenous vein on both sides and she also has quite extensive varicose eczema on both legs She has not had ulceration I would grateful for your help with managing this ladys symptoms Your sincerely</td>\n",
              "    </tr>\n",
              "    <tr>\n",
              "      <th>1</th>\n",
              "      <td>I am referring a 68 year old male who has shown increased intraocular pressure IOP during recent examinations with IOP readings ranging from 22 24 mmHg in both eyes He has a family history of glaucoma his father had open angle glaucoma Visual field testing shows early peripheral visual field defects Optic disc examination reveals increased cup to disc ratio Please evaluate for glaucoma considering open angle glaucoma and initiate appropriate treatment including topical medications or laser therapy Yours</td>\n",
              "    </tr>\n",
              "    <tr>\n",
              "      <th>2</th>\n",
              "      <td>Dear Specialist I am referring a 34 year old female patient who has been experiencing persistent aching pain in her legs due to varicose veins for over 18 months She has a history of recent pregnancy which seems to have exacerbated her condition Despite using compression stockings since the birth of her child she reports minimal alleviation of symptoms which include heaviness and discomfort particularly towards the end of the day On examination there are visible varicosities in both legs with signs of beginning ulceration on her left ankle Your expert assessment and advice on further management would be greatly appreciated Sincerely Dr XYZ</td>\n",
              "    </tr>\n",
              "    <tr>\n",
              "      <th>3</th>\n",
              "      <td>Dear Colleague This 72 year old female presents with progressive shortness of breath and fatigue on exertion Echocardiogram reveals aortic stenosis with a valve area of less than 1 cm² She has a history of hypertension and hyperlipidemia Please assess for potential aortic valve replacement considering her symptomatic status Yours</td>\n",
              "    </tr>\n",
              "  </tbody>\n",
              "</table>\n",
              "</div><br><label><b>dtype:</b> object</label>"
            ]
          },
          "metadata": {},
          "execution_count": 21
        }
      ]
    },
    {
      "cell_type": "markdown",
      "source": [
        "Lowercase"
      ],
      "metadata": {
        "id": "veuCEloS21fN"
      }
    },
    {
      "cell_type": "code",
      "source": [
        "processingText = TextP\n",
        "\n",
        "TextP = []\n",
        "\n",
        "for letter in processingText:\n",
        "  #change to lowercase\n",
        "  letter = letter.lower()\n",
        "  TextP.append(letter)\n",
        "\n",
        "TextP = pd.Series(TextP)\n",
        "comparingText = []\n",
        "comparingText.append(TextP[10])\n",
        "comparingText.append(TextP[107])\n",
        "comparingText.append(TextP[268])\n",
        "comparingText.append(TextP[407])\n",
        "\n",
        "comparingText = pd.Series(comparingText)\n",
        "comparingText"
      ],
      "metadata": {
        "colab": {
          "base_uri": "https://localhost:8080/",
          "height": 418
        },
        "id": "e3bZPCwG1AVO",
        "outputId": "77af6987-cb99-4f98-f93c-2ca7e9b4d09f"
      },
      "execution_count": null,
      "outputs": [
        {
          "output_type": "execute_result",
          "data": {
            "text/plain": [
              "0                                                                              the doctor thanks you for seeing this lady who has presented with a history of varicose veins for the last five years she has been finding that these are increasingly uncomfortable for her and she has some discomfort particularly in the later part of the day she has not found compression hosiery to be helpful examination today showed extensive varicosities from the greater saphenous vein on both sides and she also has quite extensive varicose eczema on both legs she has not had ulceration i would grateful for your help with managing this ladys symptoms your sincerely\n",
              "1                                                                                                                                               i am referring a 68 year old male who has shown increased intraocular pressure iop during recent examinations with iop readings ranging from 22 24 mmhg in both eyes he has a family history of glaucoma his father had open angle glaucoma visual field testing shows early peripheral visual field defects optic disc examination reveals increased cup to disc ratio please evaluate for glaucoma considering open angle glaucoma and initiate appropriate treatment including topical medications or laser therapy yours\n",
              "2    dear specialist i am referring a 34 year old female patient who has been experiencing persistent aching pain in her legs due to varicose veins for over 18 months she has a history of recent pregnancy which seems to have exacerbated her condition despite using compression stockings since the birth of her child she reports minimal alleviation of symptoms which include heaviness and discomfort particularly towards the end of the day on examination there are visible varicosities in both legs with signs of beginning ulceration on her left ankle your expert assessment and advice on further management would be greatly appreciated sincerely dr xyz\n",
              "3                                                                                                                                                                                                                                                                                                                                dear colleague this 72 year old female presents with progressive shortness of breath and fatigue on exertion echocardiogram reveals aortic stenosis with a valve area of less than 1 cm² she has a history of hypertension and hyperlipidemia please assess for potential aortic valve replacement considering her symptomatic status yours\n",
              "dtype: object"
            ],
            "text/html": [
              "<div>\n",
              "<style scoped>\n",
              "    .dataframe tbody tr th:only-of-type {\n",
              "        vertical-align: middle;\n",
              "    }\n",
              "\n",
              "    .dataframe tbody tr th {\n",
              "        vertical-align: top;\n",
              "    }\n",
              "\n",
              "    .dataframe thead th {\n",
              "        text-align: right;\n",
              "    }\n",
              "</style>\n",
              "<table border=\"1\" class=\"dataframe\">\n",
              "  <thead>\n",
              "    <tr style=\"text-align: right;\">\n",
              "      <th></th>\n",
              "      <th>0</th>\n",
              "    </tr>\n",
              "  </thead>\n",
              "  <tbody>\n",
              "    <tr>\n",
              "      <th>0</th>\n",
              "      <td>the doctor thanks you for seeing this lady who has presented with a history of varicose veins for the last five years she has been finding that these are increasingly uncomfortable for her and she has some discomfort particularly in the later part of the day she has not found compression hosiery to be helpful examination today showed extensive varicosities from the greater saphenous vein on both sides and she also has quite extensive varicose eczema on both legs she has not had ulceration i would grateful for your help with managing this ladys symptoms your sincerely</td>\n",
              "    </tr>\n",
              "    <tr>\n",
              "      <th>1</th>\n",
              "      <td>i am referring a 68 year old male who has shown increased intraocular pressure iop during recent examinations with iop readings ranging from 22 24 mmhg in both eyes he has a family history of glaucoma his father had open angle glaucoma visual field testing shows early peripheral visual field defects optic disc examination reveals increased cup to disc ratio please evaluate for glaucoma considering open angle glaucoma and initiate appropriate treatment including topical medications or laser therapy yours</td>\n",
              "    </tr>\n",
              "    <tr>\n",
              "      <th>2</th>\n",
              "      <td>dear specialist i am referring a 34 year old female patient who has been experiencing persistent aching pain in her legs due to varicose veins for over 18 months she has a history of recent pregnancy which seems to have exacerbated her condition despite using compression stockings since the birth of her child she reports minimal alleviation of symptoms which include heaviness and discomfort particularly towards the end of the day on examination there are visible varicosities in both legs with signs of beginning ulceration on her left ankle your expert assessment and advice on further management would be greatly appreciated sincerely dr xyz</td>\n",
              "    </tr>\n",
              "    <tr>\n",
              "      <th>3</th>\n",
              "      <td>dear colleague this 72 year old female presents with progressive shortness of breath and fatigue on exertion echocardiogram reveals aortic stenosis with a valve area of less than 1 cm² she has a history of hypertension and hyperlipidemia please assess for potential aortic valve replacement considering her symptomatic status yours</td>\n",
              "    </tr>\n",
              "  </tbody>\n",
              "</table>\n",
              "</div><br><label><b>dtype:</b> object</label>"
            ]
          },
          "metadata": {},
          "execution_count": 22
        }
      ]
    },
    {
      "cell_type": "markdown",
      "source": [
        "Remove stop words"
      ],
      "metadata": {
        "id": "Uuwobno97YdO"
      }
    },
    {
      "cell_type": "code",
      "source": [
        "stop_words = set(stopwords.words('english'))\n",
        "\n",
        "TextP = TextP.apply(lambda x: ' '.join(term for term in x.split() if term not in stop_words))\n",
        "comparingText = []\n",
        "comparingText.append(TextP[10])\n",
        "comparingText.append(TextP[107])\n",
        "comparingText.append(TextP[268])\n",
        "comparingText.append(TextP[407])\n",
        "\n",
        "comparingText = pd.Series(comparingText)\n",
        "comparingText"
      ],
      "metadata": {
        "colab": {
          "base_uri": "https://localhost:8080/",
          "height": 348
        },
        "id": "yecV_ZDZ38eK",
        "outputId": "cca490c0-8202-44a1-d13d-f71dc0676cd5"
      },
      "execution_count": null,
      "outputs": [
        {
          "output_type": "execute_result",
          "data": {
            "text/plain": [
              "0                                                                                                                     doctor thanks seeing lady presented history varicose veins last five years finding increasingly uncomfortable discomfort particularly later part day found compression hosiery helpful examination today showed extensive varicosities greater saphenous vein sides also quite extensive varicose eczema legs ulceration would grateful help managing ladys symptoms sincerely\n",
              "1                                                       referring 68 year old male shown increased intraocular pressure iop recent examinations iop readings ranging 22 24 mmhg eyes family history glaucoma father open angle glaucoma visual field testing shows early peripheral visual field defects optic disc examination reveals increased cup disc ratio please evaluate glaucoma considering open angle glaucoma initiate appropriate treatment including topical medications laser therapy\n",
              "2    dear specialist referring 34 year old female patient experiencing persistent aching pain legs due varicose veins 18 months history recent pregnancy seems exacerbated condition despite using compression stockings since birth child reports minimal alleviation symptoms include heaviness discomfort particularly towards end day examination visible varicosities legs signs beginning ulceration left ankle expert assessment advice management would greatly appreciated sincerely dr xyz\n",
              "3                                                                                                                                                                                                                          dear colleague 72 year old female presents progressive shortness breath fatigue exertion echocardiogram reveals aortic stenosis valve area less 1 cm² history hypertension hyperlipidemia please assess potential aortic valve replacement considering symptomatic status\n",
              "dtype: object"
            ],
            "text/html": [
              "<div>\n",
              "<style scoped>\n",
              "    .dataframe tbody tr th:only-of-type {\n",
              "        vertical-align: middle;\n",
              "    }\n",
              "\n",
              "    .dataframe tbody tr th {\n",
              "        vertical-align: top;\n",
              "    }\n",
              "\n",
              "    .dataframe thead th {\n",
              "        text-align: right;\n",
              "    }\n",
              "</style>\n",
              "<table border=\"1\" class=\"dataframe\">\n",
              "  <thead>\n",
              "    <tr style=\"text-align: right;\">\n",
              "      <th></th>\n",
              "      <th>0</th>\n",
              "    </tr>\n",
              "  </thead>\n",
              "  <tbody>\n",
              "    <tr>\n",
              "      <th>0</th>\n",
              "      <td>doctor thanks seeing lady presented history varicose veins last five years finding increasingly uncomfortable discomfort particularly later part day found compression hosiery helpful examination today showed extensive varicosities greater saphenous vein sides also quite extensive varicose eczema legs ulceration would grateful help managing ladys symptoms sincerely</td>\n",
              "    </tr>\n",
              "    <tr>\n",
              "      <th>1</th>\n",
              "      <td>referring 68 year old male shown increased intraocular pressure iop recent examinations iop readings ranging 22 24 mmhg eyes family history glaucoma father open angle glaucoma visual field testing shows early peripheral visual field defects optic disc examination reveals increased cup disc ratio please evaluate glaucoma considering open angle glaucoma initiate appropriate treatment including topical medications laser therapy</td>\n",
              "    </tr>\n",
              "    <tr>\n",
              "      <th>2</th>\n",
              "      <td>dear specialist referring 34 year old female patient experiencing persistent aching pain legs due varicose veins 18 months history recent pregnancy seems exacerbated condition despite using compression stockings since birth child reports minimal alleviation symptoms include heaviness discomfort particularly towards end day examination visible varicosities legs signs beginning ulceration left ankle expert assessment advice management would greatly appreciated sincerely dr xyz</td>\n",
              "    </tr>\n",
              "    <tr>\n",
              "      <th>3</th>\n",
              "      <td>dear colleague 72 year old female presents progressive shortness breath fatigue exertion echocardiogram reveals aortic stenosis valve area less 1 cm² history hypertension hyperlipidemia please assess potential aortic valve replacement considering symptomatic status</td>\n",
              "    </tr>\n",
              "  </tbody>\n",
              "</table>\n",
              "</div><br><label><b>dtype:</b> object</label>"
            ]
          },
          "metadata": {},
          "execution_count": 23
        }
      ]
    },
    {
      "cell_type": "markdown",
      "source": [
        "Lemmatising"
      ],
      "metadata": {
        "id": "Ma-1r4Ah9p5O"
      }
    },
    {
      "cell_type": "code",
      "source": [
        "def get_wordnet_pos(word):\n",
        "  tag = nltk.pos_tag([word])[0][1][0].upper()\n",
        "  tag_dict = {\"J\": wordnet.ADJ,\n",
        "              \"N\": wordnet.NOUN,\n",
        "              \"V\": wordnet.VERB,\n",
        "              \"R\": wordnet.ADV}\n",
        "  return tag_dict.get(tag, wordnet.NOUN)\n",
        "\n",
        "lemmatizer = WordNetLemmatizer()\n",
        "TextP = TextP.apply(lambda x:' '.join(lemmatizer.lemmatize(w, get_wordnet_pos(w)) for w in x.split()))\n",
        "\n",
        "comparingText = []\n",
        "comparingText.append(TextP[10])\n",
        "comparingText.append(TextP[107])\n",
        "comparingText.append(TextP[268])\n",
        "comparingText.append(TextP[407])\n",
        "\n",
        "comparingText = pd.Series(comparingText)\n",
        "comparingText"
      ],
      "metadata": {
        "colab": {
          "base_uri": "https://localhost:8080/",
          "height": 331
        },
        "id": "cYW3rLCj9icl",
        "outputId": "1ec7b446-2dc5-4f8c-d151-b154afd2144c"
      },
      "execution_count": null,
      "outputs": [
        {
          "output_type": "execute_result",
          "data": {
            "text/plain": [
              "0                                                                                                                doctor thanks see lady present history varicose vein last five year find increasingly uncomfortable discomfort particularly later part day found compression hosiery helpful examination today show extensive varicosity great saphenous vein side also quite extensive varicose eczema leg ulceration would grateful help manage lady symptom sincerely\n",
              "1                                                   refer 68 year old male show increase intraocular pressure iop recent examination iop reading range 22 24 mmhg eye family history glaucoma father open angle glaucoma visual field test show early peripheral visual field defect optic disc examination reveals increase cup disc ratio please evaluate glaucoma consider open angle glaucoma initiate appropriate treatment include topical medication laser therapy\n",
              "2    dear specialist refer 34 year old female patient experience persistent ache pain leg due varicose vein 18 month history recent pregnancy seem exacerbate condition despite use compression stocking since birth child report minimal alleviation symptom include heaviness discomfort particularly towards end day examination visible varicosity leg sign begin ulceration left ankle expert assessment advice management would greatly appreciate sincerely dr xyz\n",
              "3                                                                                                                                                                                                   dear colleague 72 year old female present progressive shortness breath fatigue exertion echocardiogram reveals aortic stenosis valve area less 1 cm² history hypertension hyperlipidemia please assess potential aortic valve replacement consider symptomatic status\n",
              "dtype: object"
            ],
            "text/html": [
              "<div>\n",
              "<style scoped>\n",
              "    .dataframe tbody tr th:only-of-type {\n",
              "        vertical-align: middle;\n",
              "    }\n",
              "\n",
              "    .dataframe tbody tr th {\n",
              "        vertical-align: top;\n",
              "    }\n",
              "\n",
              "    .dataframe thead th {\n",
              "        text-align: right;\n",
              "    }\n",
              "</style>\n",
              "<table border=\"1\" class=\"dataframe\">\n",
              "  <thead>\n",
              "    <tr style=\"text-align: right;\">\n",
              "      <th></th>\n",
              "      <th>0</th>\n",
              "    </tr>\n",
              "  </thead>\n",
              "  <tbody>\n",
              "    <tr>\n",
              "      <th>0</th>\n",
              "      <td>doctor thanks see lady present history varicose vein last five year find increasingly uncomfortable discomfort particularly later part day found compression hosiery helpful examination today show extensive varicosity great saphenous vein side also quite extensive varicose eczema leg ulceration would grateful help manage lady symptom sincerely</td>\n",
              "    </tr>\n",
              "    <tr>\n",
              "      <th>1</th>\n",
              "      <td>refer 68 year old male show increase intraocular pressure iop recent examination iop reading range 22 24 mmhg eye family history glaucoma father open angle glaucoma visual field test show early peripheral visual field defect optic disc examination reveals increase cup disc ratio please evaluate glaucoma consider open angle glaucoma initiate appropriate treatment include topical medication laser therapy</td>\n",
              "    </tr>\n",
              "    <tr>\n",
              "      <th>2</th>\n",
              "      <td>dear specialist refer 34 year old female patient experience persistent ache pain leg due varicose vein 18 month history recent pregnancy seem exacerbate condition despite use compression stocking since birth child report minimal alleviation symptom include heaviness discomfort particularly towards end day examination visible varicosity leg sign begin ulceration left ankle expert assessment advice management would greatly appreciate sincerely dr xyz</td>\n",
              "    </tr>\n",
              "    <tr>\n",
              "      <th>3</th>\n",
              "      <td>dear colleague 72 year old female present progressive shortness breath fatigue exertion echocardiogram reveals aortic stenosis valve area less 1 cm² history hypertension hyperlipidemia please assess potential aortic valve replacement consider symptomatic status</td>\n",
              "    </tr>\n",
              "  </tbody>\n",
              "</table>\n",
              "</div><br><label><b>dtype:</b> object</label>"
            ]
          },
          "metadata": {},
          "execution_count": 24
        }
      ]
    },
    {
      "cell_type": "markdown",
      "source": [
        "Export processed text"
      ],
      "metadata": {
        "id": "fQkY6UEAROy6"
      }
    },
    {
      "cell_type": "code",
      "source": [
        "dataTemp = list(zip(TextP, data['referal_type'], data['urgency']))\n",
        "dataP = pd.DataFrame(dataTemp, columns =['letter_text', 'referal_type', 'urgency'])\n",
        "\n",
        "dataP.to_csv(\"dataP.csv\", index=False)\n",
        "\n",
        "files.download(\"dataP.csv\")"
      ],
      "metadata": {
        "colab": {
          "base_uri": "https://localhost:8080/",
          "height": 17
        },
        "id": "PHV-hTKWROoT",
        "outputId": "4bb10dbe-c40e-4711-e26e-a65c80c1e9a0"
      },
      "execution_count": null,
      "outputs": [
        {
          "output_type": "display_data",
          "data": {
            "text/plain": [
              "<IPython.core.display.Javascript object>"
            ],
            "application/javascript": [
              "\n",
              "    async function download(id, filename, size) {\n",
              "      if (!google.colab.kernel.accessAllowed) {\n",
              "        return;\n",
              "      }\n",
              "      const div = document.createElement('div');\n",
              "      const label = document.createElement('label');\n",
              "      label.textContent = `Downloading \"${filename}\": `;\n",
              "      div.appendChild(label);\n",
              "      const progress = document.createElement('progress');\n",
              "      progress.max = size;\n",
              "      div.appendChild(progress);\n",
              "      document.body.appendChild(div);\n",
              "\n",
              "      const buffers = [];\n",
              "      let downloaded = 0;\n",
              "\n",
              "      const channel = await google.colab.kernel.comms.open(id);\n",
              "      // Send a message to notify the kernel that we're ready.\n",
              "      channel.send({})\n",
              "\n",
              "      for await (const message of channel.messages) {\n",
              "        // Send a message to notify the kernel that we're ready.\n",
              "        channel.send({})\n",
              "        if (message.buffers) {\n",
              "          for (const buffer of message.buffers) {\n",
              "            buffers.push(buffer);\n",
              "            downloaded += buffer.byteLength;\n",
              "            progress.value = downloaded;\n",
              "          }\n",
              "        }\n",
              "      }\n",
              "      const blob = new Blob(buffers, {type: 'application/binary'});\n",
              "      const a = document.createElement('a');\n",
              "      a.href = window.URL.createObjectURL(blob);\n",
              "      a.download = filename;\n",
              "      div.appendChild(a);\n",
              "      a.click();\n",
              "      div.remove();\n",
              "    }\n",
              "  "
            ]
          },
          "metadata": {}
        },
        {
          "output_type": "display_data",
          "data": {
            "text/plain": [
              "<IPython.core.display.Javascript object>"
            ],
            "application/javascript": [
              "download(\"download_59d06792-0fd2-48a6-acb1-60610ca59288\", \"dataP.csv\", 140611)"
            ]
          },
          "metadata": {}
        }
      ]
    }
  ]
}